{
  "nbformat": 4,
  "nbformat_minor": 0,
  "metadata": {
    "orig_nbformat": 4,
    "colab": {
      "name": "Compression.ipynb",
      "provenance": [],
      "collapsed_sections": [],
      "machine_shape": "hm",
      "include_colab_link": true
    },
    "language_info": {
      "name": "python"
    },
    "kernelspec": {
      "name": "python3",
      "display_name": "Python 3"
    },
    "accelerator": "GPU"
  },
  "cells": [
    {
      "cell_type": "markdown",
      "metadata": {
        "id": "view-in-github",
        "colab_type": "text"
      },
      "source": [
        "<a href=\"https://colab.research.google.com/github/acse-moj20/msc-irp/blob/dev/PredGAN/Compression.ipynb\" target=\"_parent\"><img src=\"https://colab.research.google.com/assets/colab-badge.svg\" alt=\"Open In Colab\"/></a>"
      ]
    },
    {
      "cell_type": "markdown",
      "metadata": {
        "id": "uCaC2OmAQIuV"
      },
      "source": [
        "**Dev Code (PredGAN) For Fluid Problem**"
      ]
    },
    {
      "cell_type": "markdown",
      "metadata": {
        "id": "sWkGA3nPQFCC"
      },
      "source": [
        "Setup and package import"
      ]
    },
    {
      "cell_type": "code",
      "metadata": {
        "id": "rZDJP8VDQi-I"
      },
      "source": [
        "%matplotlib inline\n",
        "import sys\n",
        "import os\n",
        "import sklearn\n",
        "import tensorflow as tf\n",
        "from tensorflow import keras\n",
        "import numpy as np\n",
        "import matplotlib.pyplot as plt\n",
        "import matplotlib as mpl\n",
        "import pandas as pd\n",
        "\n",
        "\n",
        "mpl.rc('axes', labelsize=14)\n",
        "mpl.rc('xtick', labelsize=12)\n",
        "mpl.rc('ytick', labelsize=12)"
      ],
      "execution_count": 1,
      "outputs": []
    },
    {
      "cell_type": "markdown",
      "metadata": {
        "id": "ItFJ8dPZMzLG"
      },
      "source": [
        "## Processing Power and Available Memory"
      ]
    },
    {
      "cell_type": "markdown",
      "metadata": {
        "id": "pXCI-fNHMtDz"
      },
      "source": [
        "GPU Specs"
      ]
    },
    {
      "cell_type": "code",
      "metadata": {
        "colab": {
          "base_uri": "https://localhost:8080/"
        },
        "id": "wVunyuSrSZLR",
        "outputId": "549db29c-d554-469d-db59-95e7c4954b42"
      },
      "source": [
        "gpu_info = !nvidia-smi\n",
        "gpu_info = '\\n'.join(gpu_info)\n",
        "if gpu_info.find('failed') >= 0:\n",
        "  print('GPU info not found.')\n",
        "else:\n",
        "  print(gpu_info)\n",
        "\n",
        "print('Num of available GPUs: ', len(tf.config.list_physical_devices('GPU')))"
      ],
      "execution_count": 2,
      "outputs": [
        {
          "output_type": "stream",
          "text": [
            "Wed Jun 23 09:46:30 2021       \n",
            "+-----------------------------------------------------------------------------+\n",
            "| NVIDIA-SMI 465.27       Driver Version: 460.32.03    CUDA Version: 11.2     |\n",
            "|-------------------------------+----------------------+----------------------+\n",
            "| GPU  Name        Persistence-M| Bus-Id        Disp.A | Volatile Uncorr. ECC |\n",
            "| Fan  Temp  Perf  Pwr:Usage/Cap|         Memory-Usage | GPU-Util  Compute M. |\n",
            "|                               |                      |               MIG M. |\n",
            "|===============================+======================+======================|\n",
            "|   0  Tesla P100-PCIE...  Off  | 00000000:00:04.0 Off |                    0 |\n",
            "| N/A   40C    P0    26W / 250W |      0MiB / 16280MiB |      0%      Default |\n",
            "|                               |                      |                  N/A |\n",
            "+-------------------------------+----------------------+----------------------+\n",
            "                                                                               \n",
            "+-----------------------------------------------------------------------------+\n",
            "| Processes:                                                                  |\n",
            "|  GPU   GI   CI        PID   Type   Process name                  GPU Memory |\n",
            "|        ID   ID                                                   Usage      |\n",
            "|=============================================================================|\n",
            "|  No running processes found                                                 |\n",
            "+-----------------------------------------------------------------------------+\n",
            "Num of available GPUs:  1\n"
          ],
          "name": "stdout"
        }
      ]
    },
    {
      "cell_type": "markdown",
      "metadata": {
        "id": "cCR32kB3MlGr"
      },
      "source": [
        "Memory Allocation"
      ]
    },
    {
      "cell_type": "code",
      "metadata": {
        "colab": {
          "base_uri": "https://localhost:8080/"
        },
        "id": "nnn9_uwVMpBB",
        "outputId": "9573b9f2-0068-408d-8c8c-0577085a8ed2"
      },
      "source": [
        "from psutil import virtual_memory\n",
        "ram_gb = virtual_memory().total / 1e9\n",
        "print('Your runtime has {:.1f} gigabytes of available RAM\\n'.format(ram_gb))\n",
        "\n",
        "if ram_gb < 20:\n",
        "  print('You are using a high-RAM runtime!')"
      ],
      "execution_count": 3,
      "outputs": [
        {
          "output_type": "stream",
          "text": [
            "Your runtime has 27.3 gigabytes of available RAM\n",
            "\n"
          ],
          "name": "stdout"
        }
      ]
    },
    {
      "cell_type": "markdown",
      "metadata": {
        "id": "JPz-sztBQFB9"
      },
      "source": [
        "## Data Preparation & Transformation\n",
        "\n",
        "What we know so far:\n",
        "\n",
        "\n",
        "*   Dataset represents the parameter values of u, v and p for 100 separate examples of the high fidelity solution.\n",
        "*   Each example is computed over 50 timesteps and a on a 256-by-256 grid.\n",
        "\n",
        "*   Vorticity over the vector field is obatined by computing the curl of u (x-component velocity vector) and v (y-component velocity vector)\n",
        "\n",
        "\n",
        "\n",
        "\n"
      ]
    },
    {
      "cell_type": "code",
      "metadata": {
        "colab": {
          "base_uri": "https://localhost:8080/"
        },
        "id": "caQUIudERuOz",
        "outputId": "d82cf051-9bfc-4a8f-c375-b92468b0d516"
      },
      "source": [
        "from google.colab import drive\n",
        "drive.mount('/content/drive/')"
      ],
      "execution_count": 4,
      "outputs": [
        {
          "output_type": "stream",
          "text": [
            "Mounted at /content/drive/\n"
          ],
          "name": "stdout"
        }
      ]
    },
    {
      "cell_type": "markdown",
      "metadata": {
        "id": "B6HmWgUA4eom"
      },
      "source": [
        "###**Raw data transformation**"
      ]
    },
    {
      "cell_type": "markdown",
      "metadata": {
        "id": "F_wdcLUnRo2f"
      },
      "source": [
        "####**Get Data from Drive**\n",
        "\n",
        "To be run only once"
      ]
    },
    {
      "cell_type": "code",
      "metadata": {
        "id": "NTBOcXfuUPVv"
      },
      "source": [
        "# data_dir = 'drive/MyDrive/MSC_IRP/data/vortex_100.npy'\n",
        "\n",
        "# # Load x and y velocity components.\n",
        "# data_file = np.load(data_dir)\n",
        "\n",
        "# print('Size of dataset:         ', data_file.shape)\n",
        "# print('Number of data samples:  ', len(data_file))\n",
        "# print('Size of each sample:     ', data_file[0].shape)\n",
        "# print('Number of time steps:    ', len(data_file[0]))"
      ],
      "execution_count": 18,
      "outputs": []
    },
    {
      "cell_type": "code",
      "metadata": {
        "id": "OOS48fmKrvx-"
      },
      "source": [
        "\n",
        "# # Data transformation - computing vorticity from vector field.\n",
        "# # vorticity is the curl of the velocity vector field (raw dataset).\n",
        "\n",
        "# def curl(u,v):\n",
        "#   \"\"\" \n",
        "#   Function to calculate the curl of a 2-dimensional vector field.\n",
        "#   Parameters:\n",
        "#   -----------\n",
        "#     u : 2d array of size n*m\n",
        "#       vector component in the x direction.\n",
        "\n",
        "#     v : 2d array of size n*m\n",
        "#       vector component in the y direction\n",
        "#   Output:\n",
        "#   -------\n",
        "#     curl : 2d array of size n*m\n",
        "#       curl of vector field [i.e. (dv/dx)i - (du/dy)j]\n",
        "#   \"\"\"\n",
        "#   curl = np.gradient(v)[0] - np.gradient(u)[1]\n",
        "#   return curl\n",
        "\n",
        "# def plot_vort(data, times):\n",
        "#   fig, ax = plt.subplots(1, len(times), figsize=[20,10])\n",
        "#   for i, step in enumerate(times):\n",
        "#     u = data[step][:, :, 0] # x-velocity\n",
        "#     v = data[step][:, :, 1] # y-velocity\n",
        "#     im = ax[i].imshow(curl(u, v), cmap='RdBu')\n",
        "#     ax[i].set_xlabel('X'), ax[i].set_ylabel('y')\n",
        "#     ax[i].set_xticklabels([]), ax[i].set_yticklabels([])\n",
        "#     ax[i].set_xticks([]), ax[i].set_yticks([])\n",
        "#     cbar = plt.colorbar(im, ax=ax.flatten()[i], shrink=0.24, pad=0.05, panchor=(0.0, 0.0))\n",
        "#     ax.flatten()[i].set_title('t = {}'.format(step), y=1.05, \n",
        "#                             fontsize=16, fontweight=\"bold\")\n",
        "#   plt.show()\n",
        "\n",
        "# times = [0, 10, 20, 49]\n",
        "# data = data_file[58]\n",
        "# plot_vort(data, times)"
      ],
      "execution_count": 19,
      "outputs": []
    },
    {
      "cell_type": "markdown",
      "metadata": {
        "id": "IeI3pBqOb_ei"
      },
      "source": [
        "####**Save Transformed Data to Drive**\n",
        "\n",
        "To be run only once"
      ]
    },
    {
      "cell_type": "code",
      "metadata": {
        "id": "u-zMDH14Dkiv"
      },
      "source": [
        "# Compute and save vorticity for easier data loading\n",
        "\n",
        "# vorticity = np.zeros((100, 50, 256, 256))\n",
        "# for i in range(len(data_file)):\n",
        "#  for j in range(len(data_file[0])):\n",
        "#    vorticity[i][j] = curl(data_file[i][j][:, :, 0], data_file[i][j][:, :, 1])\n",
        "# save_dir = 'drive/MyDrive/MSC_IRP/data/calc_vortex_100.npy'\n",
        "# np.save(save_dir, vorticity)"
      ],
      "execution_count": 7,
      "outputs": []
    },
    {
      "cell_type": "markdown",
      "metadata": {
        "id": "NmZ4cSQJ380Q"
      },
      "source": [
        "###**Dataset visualization**"
      ]
    },
    {
      "cell_type": "code",
      "metadata": {
        "colab": {
          "base_uri": "https://localhost:8080/",
          "height": 248
        },
        "id": "QKVka_0wY4fC",
        "outputId": "435598f6-51d2-4b7a-8478-1f7b8e7cbc23"
      },
      "source": [
        "from mpl_toolkits.mplot3d import Axes3D\n",
        "import matplotlib.pyplot as plt\n",
        "import numpy as np\n",
        "from itertools import product, combinations\n",
        "\n",
        "\n",
        "fig = plt.figure()\n",
        "ax = fig.gca(projection='3d')\n",
        "\n",
        "\n",
        "# draw cube\n",
        "r = [-1, 0]\n",
        "for s, e in combinations(np.array(list(product(r, r, r))), 2):\n",
        "    if np.sum(np.abs(s-e)) == r[1]-r[0]:\n",
        "        ax.plot3D(*zip(s, e), color=\"b\")\n",
        "r = [1, 1]\n",
        "for s, e in combinations(np.array(list(product(r, r, r))), 2):\n",
        "    if np.sum(np.abs(s-e)) == r[1]-r[0]:\n",
        "        ax.plot3D(*zip(s, e), color=\"b\")\n",
        "# make the panes transparent\n",
        "ax.xaxis.set_pane_color((1.0, 1.0, 1.0, 0.0))\n",
        "ax.yaxis.set_pane_color((1.0, 1.0, 1.0, 0.0))\n",
        "ax.zaxis.set_pane_color((1.0, 1.0, 1.0, 0.0))\n",
        "# make the grid lines transparent\n",
        "ax.xaxis._axinfo[\"grid\"]['color'] =  (1,1,1,0)\n",
        "ax.yaxis._axinfo[\"grid\"]['color'] =  (1,1,1,0)\n",
        "ax.zaxis._axinfo[\"grid\"]['color'] =  (1,1,1,0)\n",
        "ax.set_axis_off()\n",
        "plt.show()"
      ],
      "execution_count": 5,
      "outputs": [
        {
          "output_type": "display_data",
          "data": {
            "image/png": "[encoded data removed]",
            "text/plain": [
              "<Figure size 432x288 with 1 Axes>"
            ]
          },
          "metadata": {
            "tags": [],
            "needs_background": "light"
          }
        }
      ]
    },
    {
      "cell_type": "markdown",
      "metadata": {
        "id": "GTUmA4TUdeGw"
      },
      "source": [
        "###**Data Preparation**\n",
        "\n",
        "The training dataset will consist of 100 samples of a high-fidelity numerical simulation each with 50 evenly sampled snapshots (in time). Each simulation represents velocity (in x and y directions) and pressure for the turbulent flow model over a region of grid size 256x256. These values can be used to generate a vorticity field for the model. Thus, there is a total number of 256 * 256 = 65,536 variables per time step and a total of 50 * 100 = 5,000 samples. Dimensionality reduction of this high dimensional space is then performed using Principal Component Analysis (PCA) in order to work with a relatively low dimension space."
      ]
    },
    {
      "cell_type": "code",
      "metadata": {
        "id": "ebeCwAhAI5f-"
      },
      "source": [
        "# Load vortex data as traing data.\n",
        "X_train3d = np.load('drive/MyDrive/MSC_IRP/data/calc_vortex_100.npy')"
      ],
      "execution_count": 6,
      "outputs": []
    },
    {
      "cell_type": "code",
      "metadata": {
        "id": "hPFRT0haQvLT"
      },
      "source": [
        "def plot_vortex(data, times):\n",
        "  fig, ax = plt.subplots(1, len(times), figsize=[20,10])\n",
        "  \n",
        "  for i, step in enumerate(times):\n",
        "    im = ax[i].imshow(data[step], cmap='RdBu')\n",
        "    ax[i].set_xlabel('X'), ax[i].set_ylabel('y')\n",
        "    ax[i].set_xticklabels([]), ax[i].set_yticklabels([])\n",
        "    ax[i].set_xticks([]), ax[i].set_yticks([])\n",
        "    cbar = plt.colorbar(im, ax=ax.flatten()[i], shrink=0.24, pad=0.05, panchor=(0.0, 0.0))\n",
        "    ax.flatten()[i].set_title('t = {}'.format(step), y=1.05, \n",
        "                            fontsize=16, fontweight=\"bold\")\n",
        "  plt.show()"
      ],
      "execution_count": 10,
      "outputs": []
    },
    {
      "cell_type": "code",
      "metadata": {
        "colab": {
          "base_uri": "https://localhost:8080/",
          "height": 271
        },
        "id": "WzeDzsrXSao5",
        "outputId": "aae712a3-6572-4b42-88ad-879b466b319c"
      },
      "source": [
        "times = [0, 10, 20, 49]\n",
        "plot_vortex(X_train3d[58], times)"
      ],
      "execution_count": 11,
      "outputs": [
        {
          "output_type": "display_data",
          "data": {
            "image/png": "[encoded data removed]",
            "text/plain": [
              "<Figure size 1440x720 with 8 Axes>"
            ]
          },
          "metadata": {
            "tags": [],
            "needs_background": "light"
          }
        }
      ]
    },
    {
      "cell_type": "code",
      "metadata": {
        "colab": {
          "base_uri": "https://localhost:8080/"
        },
        "id": "cEdO3SdggM6T",
        "outputId": "20f1c088-7352-4bd0-800c-e96f06989f95"
      },
      "source": [
        "nx = len(X_train3d[0][0])\n",
        "X_train3d.shape"
      ],
      "execution_count": 9,
      "outputs": [
        {
          "output_type": "execute_result",
          "data": {
            "text/plain": [
              "(100, 50, 256, 256)"
            ]
          },
          "metadata": {
            "tags": []
          },
          "execution_count": 9
        }
      ]
    },
    {
      "cell_type": "code",
      "metadata": {
        "id": "gbUzqmQUPXA2"
      },
      "source": [
        "from sklearn.preprocessing import StandardScaler\n",
        "stdscale = StandardScaler()"
      ],
      "execution_count": null,
      "outputs": []
    },
    {
      "cell_type": "markdown",
      "metadata": {
        "id": "n8jDQaxwNBQ9"
      },
      "source": [
        "**Dimensionality reduction - PCA**"
      ]
    },
    {
      "cell_type": "code",
      "metadata": {
        "colab": {
          "base_uri": "https://localhost:8080/"
        },
        "id": "MboMZZSqMgTf",
        "outputId": "e9b3205b-cf2a-4743-8341-75c6c3596576"
      },
      "source": [
        "X_train1d = X_train3d.reshape((-1, nx*nx))\n",
        "X_train1d.shape"
      ],
      "execution_count": 10,
      "outputs": [
        {
          "output_type": "execute_result",
          "data": {
            "text/plain": [
              "(5000, 65536)"
            ]
          },
          "metadata": {
            "tags": []
          },
          "execution_count": 10
        }
      ]
    },
    {
      "cell_type": "code",
      "metadata": {
        "id": "TzOJUuMHNjWG"
      },
      "source": [
        "from sklearn.decomposition import PCA\n",
        "\n",
        "pca = PCA(X_train1d.shape[0])\n",
        "X_train_pca = pca.fit_transform(X_train1d)"
      ],
      "execution_count": 11,
      "outputs": []
    },
    {
      "cell_type": "code",
      "metadata": {
        "colab": {
          "base_uri": "https://localhost:8080/"
        },
        "id": "g3wgPb7nOJZB",
        "outputId": "b601867b-1563-4866-d8c9-01b813baaff7"
      },
      "source": [
        "X_recovered_1d = pca.inverse_transform(X_train_pca)\n",
        "np.allclose(X_recovered_1d, X_train1d)"
      ],
      "execution_count": 12,
      "outputs": [
        {
          "output_type": "execute_result",
          "data": {
            "text/plain": [
              "True"
            ]
          },
          "metadata": {
            "tags": []
          },
          "execution_count": 12
        }
      ]
    },
    {
      "cell_type": "code",
      "metadata": {
        "colab": {
          "base_uri": "https://localhost:8080/"
        },
        "id": "A6MU_WLQO1xz",
        "outputId": "0c9add5f-52fc-44f0-8262-9496f973ff54"
      },
      "source": [
        "p = 0.999\n",
        "cumsum_eig = np.cumsum(pca.explained_variance_ratio_)\n",
        "d = np.argmax(cumsum_eig >= p) + 1 # returns the indices of the maximum values along an axis.\n",
        "d"
      ],
      "execution_count": 14,
      "outputs": [
        {
          "output_type": "execute_result",
          "data": {
            "text/plain": [
              "292"
            ]
          },
          "metadata": {
            "tags": []
          },
          "execution_count": 14
        }
      ]
    },
    {
      "cell_type": "code",
      "metadata": {
        "colab": {
          "base_uri": "https://localhost:8080/",
          "height": 286
        },
        "id": "oHsZaFxWTi5b",
        "outputId": "31180df2-4996-4276-bc83-71098d6971e6"
      },
      "source": [
        "plt.figure(figsize=(6,4))\n",
        "plt.plot(cumsum_eig, linewidth=3)\n",
        "plt.xlabel(\"Dimensions\")\n",
        "plt.ylabel(\"Explained Variance\")\n",
        "plt.ylim([cumsum_eig[0],1.1])\n",
        "plt.plot([d, d], [0, p], \"k:\")\n",
        "plt.plot([0, d], [p, p], \"k:\")\n",
        "plt.plot(d, p, \"ko\")\n",
        "plt.annotate(\"Elbow\", xy=(d, p), xytext=(d, cumsum_eig[0]+0.05),\n",
        "             arrowprops=dict(arrowstyle=\"->\"), fontsize=16)\n",
        "plt.grid(True)\n",
        "plt.show()"
      ],
      "execution_count": 15,
      "outputs": [
        {
          "output_type": "display_data",
          "data": {
            "image/png": "[encoded data removed]",
            "text/plain": [
              "<Figure size 432x288 with 1 Axes>"
            ]
          },
          "metadata": {
            "tags": [],
            "needs_background": "light"
          }
        }
      ]
    },
    {
      "cell_type": "code",
      "metadata": {
        "colab": {
          "base_uri": "https://localhost:8080/"
        },
        "id": "NFs-XS85TrFh",
        "outputId": "35925a30-f831-4b83-97f1-27b87a9266eb"
      },
      "source": [
        "p = 0.999\n",
        "cumsum_sv = np.cumsum(pca.singular_values_/sum(pca.singular_values_))\n",
        "d = np.argmax(cumsum_sv >= p) + 1\n",
        "d"
      ],
      "execution_count": 16,
      "outputs": [
        {
          "output_type": "execute_result",
          "data": {
            "text/plain": [
              "3484"
            ]
          },
          "metadata": {
            "tags": []
          },
          "execution_count": 16
        }
      ]
    },
    {
      "cell_type": "code",
      "metadata": {
        "colab": {
          "base_uri": "https://localhost:8080/",
          "height": 286
        },
        "id": "Dw0nKWyHT6Ax",
        "outputId": "1b8c47db-9797-4bf4-97df-20011eb6cdf8"
      },
      "source": [
        "plt.figure(figsize=(6,4))\n",
        "plt.plot(cumsum_sv, linewidth=3)\n",
        "plt.xlabel(\"Dimensions\")\n",
        "plt.ylabel(\"Cumsum Singular Values\")\n",
        "plt.ylim([cumsum_eig[0],1.1])\n",
        "plt.plot([d, d], [0, p], \"k:\")\n",
        "plt.plot([0, d], [p, p], \"k:\")\n",
        "plt.plot(d, p, \"ko\")\n",
        "plt.annotate(\"Elbow\", xy=(d, p), xytext=(d, cumsum_eig[0]+0.05),\n",
        "             arrowprops=dict(arrowstyle=\"->\"), fontsize=16)\n",
        "plt.grid(True)\n",
        "plt.show()"
      ],
      "execution_count": 17,
      "outputs": [
        {
          "output_type": "display_data",
          "data": {
            "image/png": "[encoded data removed]",
            "text/plain": [
              "<Figure size 432x288 with 1 Axes>"
            ]
          },
          "metadata": {
            "tags": [],
            "needs_background": "light"
          }
        }
      ]
    },
    {
      "cell_type": "markdown",
      "metadata": {
        "id": "vaQl2GJINYIz"
      },
      "source": [
        "**Dimensionality reduction - 2D PCA**"
      ]
    },
    {
      "cell_type": "code",
      "metadata": {
        "id": "mt22SAGpyv7L"
      },
      "source": [
        "X_train2d = X_train3d.reshape((-1, nx, nx))"
      ],
      "execution_count": 14,
      "outputs": []
    },
    {
      "cell_type": "code",
      "metadata": {
        "colab": {
          "base_uri": "https://localhost:8080/"
        },
        "id": "eHnB_qeMMrDi",
        "outputId": "66d623d2-ac75-4cdd-ec90-56587197612c"
      },
      "source": [
        "X_train2d.shape"
      ],
      "execution_count": 15,
      "outputs": [
        {
          "output_type": "execute_result",
          "data": {
            "text/plain": [
              "(5000, 256, 256)"
            ]
          },
          "metadata": {
            "tags": []
          },
          "execution_count": 15
        }
      ]
    },
    {
      "cell_type": "code",
      "metadata": {
        "id": "RmI-8Gj8Nd2d"
      },
      "source": [
        ""
      ],
      "execution_count": null,
      "outputs": []
    }
  ]
}