{
  "nbformat": 4,
  "nbformat_minor": 0,
  "metadata": {
    "orig_nbformat": 4,
    "colab": {
      "name": "Compression.ipynb",
      "provenance": [],
      "collapsed_sections": [],
      "include_colab_link": true
    },
    "language_info": {
      "name": "python"
    },
    "kernelspec": {
      "name": "python3",
      "display_name": "Python 3"
    },
    "accelerator": "GPU"
  },
  "cells": [
    {
      "cell_type": "markdown",
      "metadata": {
        "id": "view-in-github",
        "colab_type": "text"
      },
      "source": [
        "<a href=\"https://colab.research.google.com/github/acse-moj20/msc-irp/blob/dev/PredGAN/Compression.ipynb\" target=\"_parent\"><img src=\"https://colab.research.google.com/assets/colab-badge.svg\" alt=\"Open In Colab\"/></a>"
      ]
    },
    {
      "cell_type": "markdown",
      "metadata": {
        "id": "uCaC2OmAQIuV"
      },
      "source": [
        "**Dev Code (PredGAN) For Fluid Problem**"
      ]
    },
    {
      "cell_type": "markdown",
      "metadata": {
        "id": "sWkGA3nPQFCC"
      },
      "source": [
        "Setup and package import"
      ]
    },
    {
      "cell_type": "code",
      "metadata": {
        "id": "rZDJP8VDQi-I"
      },
      "source": [
        "%matplotlib inline\n",
        "import sys\n",
        "import os\n",
        "import sklearn\n",
        "import tensorflow as tf\n",
        "from tensorflow import keras\n",
        "import numpy as np\n",
        "import matplotlib.pyplot as plt\n",
        "import matplotlib as mpl\n",
        "import pandas as pd"
      ],
      "execution_count": 1,
      "outputs": []
    },
    {
      "cell_type": "code",
      "metadata": {
        "id": "rVlKmE2khYoz"
      },
      "source": [
        "\n",
        "mpl.rc('axes', labelsize=14)\n",
        "mpl.rc('xtick', labelsize=12)\n",
        "mpl.rc('ytick', labelsize=12)"
      ],
      "execution_count": 2,
      "outputs": []
    },
    {
      "cell_type": "code",
      "metadata": {
        "colab": {
          "base_uri": "https://localhost:8080/"
        },
        "id": "wVunyuSrSZLR",
        "outputId": "50092498-cfe3-4b8d-8a38-1709df2aff70"
      },
      "source": [
        "print('Num of available GPUs: ', len(tf.config.list_physical_devices('GPU')))"
      ],
      "execution_count": 3,
      "outputs": [
        {
          "output_type": "stream",
          "text": [
            "Num of available GPUs:  0\n"
          ],
          "name": "stdout"
        }
      ]
    },
    {
      "cell_type": "markdown",
      "metadata": {
        "id": "JPz-sztBQFB9"
      },
      "source": [
        "## Data Analysis & Preparation\n",
        "\n",
        "What we know so far:\n",
        "\n",
        "\n",
        "*   Dataset represents the parameter values of u, v and p for 100 separate examples of the high fidelity solution.\n",
        "*   Each example is computed over 50 timesteps and a on a 256-by-256 grid.\n",
        "\n"
      ]
    },
    {
      "cell_type": "markdown",
      "metadata": {
        "id": "F_wdcLUnRo2f"
      },
      "source": [
        "### Get Data from Drive"
      ]
    },
    {
      "cell_type": "code",
      "metadata": {
        "colab": {
          "base_uri": "https://localhost:8080/"
        },
        "id": "caQUIudERuOz",
        "outputId": "f3bc611c-e154-4f4d-f168-50f1c07576d1"
      },
      "source": [
        "from google.colab import drive\n",
        "drive.mount('/content/drive/')"
      ],
      "execution_count": 3,
      "outputs": [
        {
          "output_type": "stream",
          "text": [
            "Drive already mounted at /content/drive/; to attempt to forcibly remount, call drive.mount(\"/content/drive/\", force_remount=True).\n"
          ],
          "name": "stdout"
        }
      ]
    },
    {
      "cell_type": "code",
      "metadata": {
        "id": "NxgICUBohBeI"
      },
      "source": [
        "# vorticity is the curl of the velocity vector field.\n",
        "# theoretically, it is defined as (dv/dx)i - (du/dy)j\n",
        "\n",
        "def curl(u,v):\n",
        "\n",
        "   return np.gradient(v)[0] - np.gradient(u)[1]\n"
      ],
      "execution_count": 22,
      "outputs": []
    },
    {
      "cell_type": "code",
      "metadata": {
        "id": "ChO89njfR-mA"
      },
      "source": [
        "data_dir = 'drive/MyDrive/MSC_IRP/data/vortex_100.npy'\n",
        "data_file = np.load(data_dir)[:50, :, :, :, :2]"
      ],
      "execution_count": 5,
      "outputs": []
    },
    {
      "cell_type": "code",
      "metadata": {
        "colab": {
          "base_uri": "https://localhost:8080/"
        },
        "id": "NTBOcXfuUPVv",
        "outputId": "717cab86-249a-4143-be59-642a924a66fe"
      },
      "source": [
        "print('Size of dataset: ', data_file.shape)\n",
        "print('Number of data samples: ', len(data_file))\n",
        "print('Size of each sample: ', data_file[0].shape)\n",
        "print('Number of time steps: ', len(data_file[0]))"
      ],
      "execution_count": 7,
      "outputs": [
        {
          "output_type": "stream",
          "text": [
            "Size of dataset:  (50, 50, 256, 256, 2)\n",
            "Number of data samples:  50\n",
            "Size of each sample:  (50, 256, 256, 2)\n",
            "Number of time steps:  50\n"
          ],
          "name": "stdout"
        }
      ]
    },
    {
      "cell_type": "code",
      "metadata": {
        "id": "UT0dgEryU9Ly"
      },
      "source": [
        "\n",
        "def plot_vort(data, times):\n",
        "  fig, ax = plt.subplots(1, len(times), figsize=[20,10])\n",
        "  for i, step in enumerate(times):\n",
        "    u = data[step][:, :, 0] # x-velocity\n",
        "    v = data[step][:, :, 1] # y-velocity\n",
        "    im = ax[i].imshow(curl(u, v), cmap='RdBu')\n",
        "    ax[i].set_xlabel('X'), ax[i].set_ylabel('y')\n",
        "    ax[i].set_xticklabels([]), ax[i].set_yticklabels([])\n",
        "    ax[i].set_xticks([]), ax[i].set_yticks([])\n",
        "    cbar = plt.colorbar(im, ax=ax.flatten()[i], shrink=0.24, pad=0.05, panchor=(0.0, 0.0))\n",
        "    ax.flatten()[i].set_title('t = {}'.format(step), y=1.05, \n",
        "                            fontsize=16, fontweight=\"bold\")\n",
        "  plt.show()"
      ],
      "execution_count": 28,
      "outputs": []
    },
    {
      "cell_type": "code",
      "metadata": {
        "colab": {
          "base_uri": "https://localhost:8080/",
          "height": 271
        },
        "id": "OOS48fmKrvx-",
        "outputId": "2a441bfc-89f0-4256-9c27-75c657fd8db6"
      },
      "source": [
        "times = [0, 10, 20, 49]\n",
        "data = data_file[17]\n",
        "plot_vort(data, times)"
      ],
      "execution_count": 29,
      "outputs": [
        {
          "output_type": "display_data",
          "data": {
            "image/png": "[encoded data removed]",
            "text/plain": [
              "<Figure size 1440x720 with 8 Axes>"
            ]
          },
          "metadata": {
            "tags": [],
            "needs_background": "light"
          }
        }
      ]
    },
    {
      "cell_type": "markdown",
      "metadata": {
        "id": "GTUmA4TUdeGw"
      },
      "source": [
        "###**Data Preparation**\n",
        "\n",
        "The training dataset will consist of 100 samples of a high-fidelity numerical simulation each with 50 evenly sampled snapshots (in time). Each simulation represents velocity (in x and y directions) and pressure for the turbulent flow model over a region of grid size 256x256. These values can be used to generate a vorticity field for the model. Thus, there is a total number of 256 * 256 = 65,536 variables per time step and a total of 50 * 100 = 5,000 samples. Dimensionality reduction of this high dimensional space is then performed using Principal Component Analysis (PCA) in order to work with a relatively low dimension space."
      ]
    },
    {
      "cell_type": "code",
      "metadata": {
        "id": "u-zMDH14Dkiv"
      },
      "source": [
        "X_train = curl(data_file[:, :, :, :, 0], data_file[:, :, :, :, 1])\n",
        "del data_file"
      ],
      "execution_count": null,
      "outputs": []
    },
    {
      "cell_type": "code",
      "metadata": {
        "colab": {
          "base_uri": "https://localhost:8080/"
        },
        "id": "ebeCwAhAI5f-",
        "outputId": "7f1af7ea-35bb-40d1-ee7c-2459f9dea2e0"
      },
      "source": [
        "vars = data_file.shape[-1]  # Number of variables per grid. u, v and p. \n",
        "nr = data_file.shape[2]     # Number of rows of grid in each time step.\n",
        "nc = data_file.shape[3]     # Number of columns of grid in each time step.\n",
        "times = data_file.shape[0] * data_file[1]\n",
        "X_train3d = data_file.reshape(-1, nr, nc, vars )\n",
        "print(X_train3d.shape)"
      ],
      "execution_count": 35,
      "outputs": [
        {
          "output_type": "stream",
          "text": [
            "(5000, 256, 256, 3)\n"
          ],
          "name": "stdout"
        }
      ]
    },
    {
      "cell_type": "code",
      "metadata": {
        "colab": {
          "base_uri": "https://localhost:8080/",
          "height": 238
        },
        "id": "hPFRT0haQvLT",
        "outputId": "d9c9af3d-ad9e-4030-c141-917bc9fd4a88"
      },
      "source": [
        "data = X_train3d[0]\n",
        "fig, ax = plt.subplots(1, 3, figsize=[20,16])\n",
        "parameters = ['Velocity', 'Viscosity', 'Pressure']\n",
        "for j in range(len(parameters)):\n",
        "  img = data[:, :, j]\n",
        "  ax[j].imshow(img)\n",
        "  ax[j].set_title(parameters[j], fontsize=16, fontweight='bold', \n",
        "                        ha='right')\n",
        "plt.show()"
      ],
      "execution_count": 1,
      "outputs": [
        {
          "output_type": "error",
          "ename": "NameError",
          "evalue": "ignored",
          "traceback": [
            "\u001b[0;31m---------------------------------------------------------------------------\u001b[0m",
            "\u001b[0;31mNameError\u001b[0m                                 Traceback (most recent call last)",
            "\u001b[0;32m<ipython-input-1-06dfa9eaceb6>\u001b[0m in \u001b[0;36m<module>\u001b[0;34m()\u001b[0m\n\u001b[0;32m----> 1\u001b[0;31m \u001b[0mdata\u001b[0m \u001b[0;34m=\u001b[0m \u001b[0mX_train3d\u001b[0m\u001b[0;34m[\u001b[0m\u001b[0;36m0\u001b[0m\u001b[0;34m]\u001b[0m\u001b[0;34m\u001b[0m\u001b[0;34m\u001b[0m\u001b[0m\n\u001b[0m\u001b[1;32m      2\u001b[0m \u001b[0mfig\u001b[0m\u001b[0;34m,\u001b[0m \u001b[0max\u001b[0m \u001b[0;34m=\u001b[0m \u001b[0mplt\u001b[0m\u001b[0;34m.\u001b[0m\u001b[0msubplots\u001b[0m\u001b[0;34m(\u001b[0m\u001b[0;36m1\u001b[0m\u001b[0;34m,\u001b[0m \u001b[0;36m3\u001b[0m\u001b[0;34m,\u001b[0m \u001b[0mfigsize\u001b[0m\u001b[0;34m=\u001b[0m\u001b[0;34m[\u001b[0m\u001b[0;36m20\u001b[0m\u001b[0;34m,\u001b[0m\u001b[0;36m16\u001b[0m\u001b[0;34m]\u001b[0m\u001b[0;34m)\u001b[0m\u001b[0;34m\u001b[0m\u001b[0;34m\u001b[0m\u001b[0m\n\u001b[1;32m      3\u001b[0m \u001b[0mparameters\u001b[0m \u001b[0;34m=\u001b[0m \u001b[0;34m[\u001b[0m\u001b[0;34m'Velocity'\u001b[0m\u001b[0;34m,\u001b[0m \u001b[0;34m'Viscosity'\u001b[0m\u001b[0;34m,\u001b[0m \u001b[0;34m'Pressure'\u001b[0m\u001b[0;34m]\u001b[0m\u001b[0;34m\u001b[0m\u001b[0;34m\u001b[0m\u001b[0m\n\u001b[1;32m      4\u001b[0m \u001b[0;32mfor\u001b[0m \u001b[0mj\u001b[0m \u001b[0;32min\u001b[0m \u001b[0mrange\u001b[0m\u001b[0;34m(\u001b[0m\u001b[0mlen\u001b[0m\u001b[0;34m(\u001b[0m\u001b[0mparameters\u001b[0m\u001b[0;34m)\u001b[0m\u001b[0;34m)\u001b[0m\u001b[0;34m:\u001b[0m\u001b[0;34m\u001b[0m\u001b[0;34m\u001b[0m\u001b[0m\n\u001b[1;32m      5\u001b[0m   \u001b[0mimg\u001b[0m \u001b[0;34m=\u001b[0m \u001b[0mdata\u001b[0m\u001b[0;34m[\u001b[0m\u001b[0;34m:\u001b[0m\u001b[0;34m,\u001b[0m \u001b[0;34m:\u001b[0m\u001b[0;34m,\u001b[0m \u001b[0mj\u001b[0m\u001b[0;34m]\u001b[0m\u001b[0;34m\u001b[0m\u001b[0;34m\u001b[0m\u001b[0m\n",
            "\u001b[0;31mNameError\u001b[0m: name 'X_train3d' is not defined"
          ]
        }
      ]
    },
    {
      "cell_type": "code",
      "metadata": {
        "colab": {
          "base_uri": "https://localhost:8080/"
        },
        "id": "WzeDzsrXSao5",
        "outputId": "b1f88e0b-22ab-4690-951a-4c1657a18b19"
      },
      "source": [
        "X_train2d = X_train3d.reshape(-1, nr*nc*vars)\n",
        "print(X_train2d.shape)"
      ],
      "execution_count": 36,
      "outputs": [
        {
          "output_type": "stream",
          "text": [
            "(5000, 196608)\n"
          ],
          "name": "stdout"
        }
      ]
    },
    {
      "cell_type": "code",
      "metadata": {
        "id": "QKVka_0wY4fC"
      },
      "source": [
        ""
      ],
      "execution_count": null,
      "outputs": []
    }
  ]
}