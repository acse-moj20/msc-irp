{
  "nbformat": 4,
  "nbformat_minor": 0,
  "metadata": {
    "orig_nbformat": 4,
    "colab": {
      "name": "Compression.ipynb",
      "provenance": [],
      "collapsed_sections": [],
      "machine_shape": "hm",
      "include_colab_link": true
    },
    "language_info": {
      "name": "python"
    },
    "kernelspec": {
      "name": "python3",
      "display_name": "Python 3"
    },
    "accelerator": "GPU"
  },
  "cells": [
    {
      "cell_type": "markdown",
      "metadata": {
        "id": "view-in-github",
        "colab_type": "text"
      },
      "source": [
        "<a href=\"https://colab.research.google.com/github/acse-moj20/msc-irp/blob/dev/PredGAN/Compression.ipynb\" target=\"_parent\"><img src=\"https://colab.research.google.com/assets/colab-badge.svg\" alt=\"Open In Colab\"/></a>"
      ]
    },
    {
      "cell_type": "markdown",
      "metadata": {
        "id": "uCaC2OmAQIuV"
      },
      "source": [
        "**Dev Code (PredGAN) For Fluid Problem**"
      ]
    },
    {
      "cell_type": "markdown",
      "metadata": {
        "id": "sWkGA3nPQFCC"
      },
      "source": [
        "Setup and package import"
      ]
    },
    {
      "cell_type": "code",
      "metadata": {
        "id": "rZDJP8VDQi-I"
      },
      "source": [
        "%matplotlib inline\n",
        "import sys\n",
        "import os\n",
        "import sklearn\n",
        "import tensorflow as tf\n",
        "from tensorflow import keras\n",
        "import numpy as np\n",
        "import matplotlib.pyplot as plt\n",
        "import matplotlib as mpl\n",
        "import pandas as pd\n",
        "\n",
        "\n",
        "mpl.rc('axes', labelsize=14)\n",
        "mpl.rc('xtick', labelsize=12)\n",
        "mpl.rc('ytick', labelsize=12)"
      ],
      "execution_count": 1,
      "outputs": []
    },
    {
      "cell_type": "markdown",
      "metadata": {
        "id": "ItFJ8dPZMzLG"
      },
      "source": [
        "## Processing Power and Available Memory"
      ]
    },
    {
      "cell_type": "markdown",
      "metadata": {
        "id": "pXCI-fNHMtDz"
      },
      "source": [
        "GPU Specs"
      ]
    },
    {
      "cell_type": "code",
      "metadata": {
        "colab": {
          "base_uri": "https://localhost:8080/"
        },
        "id": "wVunyuSrSZLR",
        "outputId": "916ad966-2ba9-4302-ed95-3075b8d680ba"
      },
      "source": [
        "gpu_info = !nvidia-smi\n",
        "gpu_info = '\\n'.join(gpu_info)\n",
        "if gpu_info.find('failed') >= 0:\n",
        "  print('GPU info not found.')\n",
        "else:\n",
        "  print(gpu_info)\n",
        "\n",
        "print('Num of available GPUs: ', len(tf.config.list_physical_devices('GPU')))"
      ],
      "execution_count": 2,
      "outputs": [
        {
          "output_type": "stream",
          "text": [
            "Tue Jun 22 22:36:06 2021       \n",
            "+-----------------------------------------------------------------------------+\n",
            "| NVIDIA-SMI 465.27       Driver Version: 460.32.03    CUDA Version: 11.2     |\n",
            "|-------------------------------+----------------------+----------------------+\n",
            "| GPU  Name        Persistence-M| Bus-Id        Disp.A | Volatile Uncorr. ECC |\n",
            "| Fan  Temp  Perf  Pwr:Usage/Cap|         Memory-Usage | GPU-Util  Compute M. |\n",
            "|                               |                      |               MIG M. |\n",
            "|===============================+======================+======================|\n",
            "|   0  Tesla P100-PCIE...  Off  | 00000000:00:04.0 Off |                    0 |\n",
            "| N/A   36C    P0    26W / 250W |      0MiB / 16280MiB |      0%      Default |\n",
            "|                               |                      |                  N/A |\n",
            "+-------------------------------+----------------------+----------------------+\n",
            "                                                                               \n",
            "+-----------------------------------------------------------------------------+\n",
            "| Processes:                                                                  |\n",
            "|  GPU   GI   CI        PID   Type   Process name                  GPU Memory |\n",
            "|        ID   ID                                                   Usage      |\n",
            "|=============================================================================|\n",
            "|  No running processes found                                                 |\n",
            "+-----------------------------------------------------------------------------+\n",
            "Num of available GPUs:  1\n"
          ],
          "name": "stdout"
        }
      ]
    },
    {
      "cell_type": "markdown",
      "metadata": {
        "id": "cCR32kB3MlGr"
      },
      "source": [
        "Memory Allocation"
      ]
    },
    {
      "cell_type": "code",
      "metadata": {
        "colab": {
          "base_uri": "https://localhost:8080/"
        },
        "id": "nnn9_uwVMpBB",
        "outputId": "ab67e5d2-0dfe-491a-a807-dc2e62e0a503"
      },
      "source": [
        "from psutil import virtual_memory\n",
        "ram_gb = virtual_memory().total / 1e9\n",
        "print('Your runtime has {:.1f} gigabytes of available RAM\\n'.format(ram_gb))\n",
        "\n",
        "if ram_gb < 20:\n",
        "  print('You are using a high-RAM runtime!')"
      ],
      "execution_count": 3,
      "outputs": [
        {
          "output_type": "stream",
          "text": [
            "Your runtime has 27.3 gigabytes of available RAM\n",
            "\n"
          ],
          "name": "stdout"
        }
      ]
    },
    {
      "cell_type": "markdown",
      "metadata": {
        "id": "JPz-sztBQFB9"
      },
      "source": [
        "## Data Preparation & Transformation\n",
        "\n",
        "What we know so far:\n",
        "\n",
        "\n",
        "*   Dataset represents the parameter values of u, v and p for 100 separate examples of the high fidelity solution.\n",
        "*   Each example is computed over 50 timesteps and a on a 256-by-256 grid.\n",
        "\n",
        "*   Vorticity over the vector field is obatined by computing the curl of u (x-component velocity vector) and v (y-component velocity vector)\n",
        "\n",
        "\n",
        "\n",
        "\n"
      ]
    },
    {
      "cell_type": "code",
      "metadata": {
        "colab": {
          "base_uri": "https://localhost:8080/"
        },
        "id": "caQUIudERuOz",
        "outputId": "1b267245-2920-42d8-f134-4464cb0610b0"
      },
      "source": [
        "from google.colab import drive\n",
        "drive.mount('/content/drive/')"
      ],
      "execution_count": 4,
      "outputs": [
        {
          "output_type": "stream",
          "text": [
            "Drive already mounted at /content/drive/; to attempt to forcibly remount, call drive.mount(\"/content/drive/\", force_remount=True).\n"
          ],
          "name": "stdout"
        }
      ]
    },
    {
      "cell_type": "markdown",
      "metadata": {
        "id": "B6HmWgUA4eom"
      },
      "source": [
        "###**Raw data transformation**"
      ]
    },
    {
      "cell_type": "markdown",
      "metadata": {
        "id": "F_wdcLUnRo2f"
      },
      "source": [
        "####**Get Data from Drive**\n",
        "\n",
        "To be run only once"
      ]
    },
    {
      "cell_type": "code",
      "metadata": {
        "id": "ChO89njfR-mA"
      },
      "source": [
        "data_dir = 'drive/MyDrive/MSC_IRP/data/vortex_100.npy'\n",
        "\n",
        "# Load x and y velocity components.\n",
        "data_file = np.load(data_dir)"
      ],
      "execution_count": 5,
      "outputs": []
    },
    {
      "cell_type": "code",
      "metadata": {
        "colab": {
          "base_uri": "https://localhost:8080/"
        },
        "id": "NTBOcXfuUPVv",
        "outputId": "d081ffb5-ac77-4d9f-fd34-89ebe91eb5fd"
      },
      "source": [
        "print('Size of dataset:         ', data_file.shape)\n",
        "print('Number of data samples:  ', len(data_file))\n",
        "print('Size of each sample:     ', data_file[0].shape)\n",
        "print('Number of time steps:    ', len(data_file[0]))"
      ],
      "execution_count": 6,
      "outputs": [
        {
          "output_type": "stream",
          "text": [
            "Size of dataset:          (50, 50, 256, 256, 2)\n",
            "Number of data samples:   50\n",
            "Size of each sample:      (50, 256, 256, 2)\n",
            "Number of time steps:     50\n"
          ],
          "name": "stdout"
        }
      ]
    },
    {
      "cell_type": "code",
      "metadata": {
        "id": "NxgICUBohBeI"
      },
      "source": [
        "# Data transformation - computing vorticity from vector field.\n",
        "# vorticity is the curl of the velocity vector field (raw dataset).\n",
        "\n",
        "def curl(u,v):\n",
        "  \"\"\" \n",
        "  Function to calculate the curl of a 2-dimensional vector field.\n",
        "\n",
        "  Parameters:\n",
        "  -----------\n",
        "    u : 2d array of size n*m\n",
        "      vector component in the x direction.\n",
        "\n",
        "    v : 2d array of size n*m\n",
        "      vector component in the y direction\n",
        "\n",
        "  Output:\n",
        "  -------\n",
        "    curl : 2d array of size n*m\n",
        "      curl of vector field [i.e. (dv/dx)i - (du/dy)j]\n",
        "  \"\"\"\n",
        "  curl = np.gradient(v)[0] - np.gradient(u)[1]\n",
        "  return curl\n"
      ],
      "execution_count": 5,
      "outputs": []
    },
    {
      "cell_type": "code",
      "metadata": {
        "id": "UT0dgEryU9Ly"
      },
      "source": [
        "\n",
        "def plot_vort(data, times):\n",
        "  fig, ax = plt.subplots(1, len(times), figsize=[20,10])\n",
        "  for i, step in enumerate(times):\n",
        "    u = data[step][:, :, 0] # x-velocity\n",
        "    v = data[step][:, :, 1] # y-velocity\n",
        "    im = ax[i].imshow(curl(u, v), cmap='RdBu')\n",
        "    ax[i].set_xlabel('X'), ax[i].set_ylabel('y')\n",
        "    ax[i].set_xticklabels([]), ax[i].set_yticklabels([])\n",
        "    ax[i].set_xticks([]), ax[i].set_yticks([])\n",
        "    cbar = plt.colorbar(im, ax=ax.flatten()[i], shrink=0.24, pad=0.05, panchor=(0.0, 0.0))\n",
        "    ax.flatten()[i].set_title('t = {}'.format(step), y=1.05, \n",
        "                            fontsize=16, fontweight=\"bold\")\n",
        "  plt.show()"
      ],
      "execution_count": 8,
      "outputs": []
    },
    {
      "cell_type": "code",
      "metadata": {
        "colab": {
          "base_uri": "https://localhost:8080/",
          "height": 271
        },
        "id": "OOS48fmKrvx-",
        "outputId": "a5c92949-af7f-45d3-9676-81e38d8b7ee4"
      },
      "source": [
        "times = [0, 10, 20, 49]\n",
        "data = data_file[58]\n",
        "plot_vort(data, times)"
      ],
      "execution_count": 8,
      "outputs": [
        {
          "output_type": "display_data",
          "data": {
            "image/png": "[encoded data removed]",
            "text/plain": [
              "<Figure size 1440x720 with 8 Axes>"
            ]
          },
          "metadata": {
            "tags": [],
            "needs_background": "light"
          }
        }
      ]
    },
    {
      "cell_type": "markdown",
      "metadata": {
        "id": "IeI3pBqOb_ei"
      },
      "source": [
        "####**Save Transformed Data to Drive**\n",
        "\n",
        "To be run only once"
      ]
    },
    {
      "cell_type": "code",
      "metadata": {
        "id": "u-zMDH14Dkiv"
      },
      "source": [
        "# Compute and save vorticity for easier data loading\n",
        "\n",
        "#vorticity = np.zeros((100, 50, 256, 256))\n",
        "#for i in range(len(data_file)):\n",
        "#  for j in range(len(data_file[0])):\n",
        "#    vorticity[i][j] = curl(data_file[i][j][:, :, 0], data_file[i][j][:, :, 1])\n",
        "#save_dir = 'drive/MyDrive/MSC_IRP/data/calc_vortex_100.npy'\n",
        "#np.save(save_dir, vorticity)"
      ],
      "execution_count": 9,
      "outputs": []
    },
    {
      "cell_type": "markdown",
      "metadata": {
        "id": "NmZ4cSQJ380Q"
      },
      "source": [
        "###**Dataset visualization**"
      ]
    },
    {
      "cell_type": "code",
      "metadata": {
        "colab": {
          "base_uri": "https://localhost:8080/",
          "height": 247
        },
        "id": "QKVka_0wY4fC",
        "outputId": "1913b52d-e23c-42fb-fd2d-14a649e3383a"
      },
      "source": [
        "from mpl_toolkits.mplot3d import Axes3D\n",
        "import matplotlib.pyplot as plt\n",
        "import numpy as np\n",
        "from itertools import product, combinations\n",
        "\n",
        "\n",
        "fig = plt.figure()\n",
        "ax = fig.gca(projection='3d')\n",
        "\n",
        "\n",
        "# draw cube\n",
        "r = [-1, 0]\n",
        "for s, e in combinations(np.array(list(product(r, r, r))), 2):\n",
        "    if np.sum(np.abs(s-e)) == r[1]-r[0]:\n",
        "        ax.plot3D(*zip(s, e), color=\"b\")\n",
        "r = [1, 1]\n",
        "for s, e in combinations(np.array(list(product(r, r, r))), 2):\n",
        "    if np.sum(np.abs(s-e)) == r[1]-r[0]:\n",
        "        ax.plot3D(*zip(s, e), color=\"b\")\n",
        "# make the panes transparent\n",
        "ax.xaxis.set_pane_color((1.0, 1.0, 1.0, 0.0))\n",
        "ax.yaxis.set_pane_color((1.0, 1.0, 1.0, 0.0))\n",
        "ax.zaxis.set_pane_color((1.0, 1.0, 1.0, 0.0))\n",
        "# make the grid lines transparent\n",
        "ax.xaxis._axinfo[\"grid\"]['color'] =  (1,1,1,0)\n",
        "ax.yaxis._axinfo[\"grid\"]['color'] =  (1,1,1,0)\n",
        "ax.zaxis._axinfo[\"grid\"]['color'] =  (1,1,1,0)\n",
        "ax.set_axis_off()\n",
        "plt.show()"
      ],
      "execution_count": 20,
      "outputs": [
        {
          "output_type": "display_data",
          "data": {
            "image/png": "[encoded data removed]",
            "text/plain": [
              "<Figure size 432x288 with 1 Axes>"
            ]
          },
          "metadata": {
            "tags": [],
            "needs_background": "light"
          }
        }
      ]
    },
    {
      "cell_type": "markdown",
      "metadata": {
        "id": "GTUmA4TUdeGw"
      },
      "source": [
        "###**Data Preparation**\n",
        "\n",
        "The training dataset will consist of 100 samples of a high-fidelity numerical simulation each with 50 evenly sampled snapshots (in time). Each simulation represents velocity (in x and y directions) and pressure for the turbulent flow model over a region of grid size 256x256. These values can be used to generate a vorticity field for the model. Thus, there is a total number of 256 * 256 = 65,536 variables per time step and a total of 50 * 100 = 5,000 samples. Dimensionality reduction of this high dimensional space is then performed using Principal Component Analysis (PCA) in order to work with a relatively low dimension space."
      ]
    },
    {
      "cell_type": "code",
      "metadata": {
        "id": "ebeCwAhAI5f-"
      },
      "source": [
        "# Load vortex data as traing data.\n",
        "X_train3d = np.load('drive/MyDrive/MSC_IRP/data/calc_vortex_100.npy')"
      ],
      "execution_count": 5,
      "outputs": []
    },
    {
      "cell_type": "code",
      "metadata": {
        "colab": {
          "base_uri": "https://localhost:8080/"
        },
        "id": "cEdO3SdggM6T",
        "outputId": "566b0b71-569d-4a8a-db23-bc457cb15313"
      },
      "source": [
        "X_train3d.shape"
      ],
      "execution_count": 6,
      "outputs": [
        {
          "output_type": "execute_result",
          "data": {
            "text/plain": [
              "(100, 50, 256, 256)"
            ]
          },
          "metadata": {
            "tags": []
          },
          "execution_count": 6
        }
      ]
    },
    {
      "cell_type": "code",
      "metadata": {
        "id": "hPFRT0haQvLT"
      },
      "source": [
        "def plot_vortex(data, times):\n",
        "  fig, ax = plt.subplots(1, len(times), figsize=[20,10])\n",
        "  \n",
        "  for i, step in enumerate(times):\n",
        "    im = ax[i].imshow(data[step], cmap='RdBu')\n",
        "    ax[i].set_xlabel('X'), ax[i].set_ylabel('y')\n",
        "    ax[i].set_xticklabels([]), ax[i].set_yticklabels([])\n",
        "    ax[i].set_xticks([]), ax[i].set_yticks([])\n",
        "    cbar = plt.colorbar(im, ax=ax.flatten()[i], shrink=0.24, pad=0.05, panchor=(0.0, 0.0))\n",
        "    ax.flatten()[i].set_title('t = {}'.format(step), y=1.05, \n",
        "                            fontsize=16, fontweight=\"bold\")\n",
        "  plt.show()"
      ],
      "execution_count": 7,
      "outputs": []
    },
    {
      "cell_type": "code",
      "metadata": {
        "colab": {
          "base_uri": "https://localhost:8080/",
          "height": 271
        },
        "id": "WzeDzsrXSao5",
        "outputId": "34652f17-962a-46f3-e9fd-1025713ad221"
      },
      "source": [
        "times = [0, 10, 20, 49]\n",
        "plot_vortex(X_train3d[58], times)"
      ],
      "execution_count": 9,
      "outputs": [
        {
          "output_type": "display_data",
          "data": {
            "image/png": "[encoded data removed]",
            "text/plain": [
              "<Figure size 1440x720 with 8 Axes>"
            ]
          },
          "metadata": {
            "tags": [],
            "needs_background": "light"
          }
        }
      ]
    },
    {
      "cell_type": "code",
      "metadata": {
        "id": "mt22SAGpyv7L"
      },
      "source": [
        ""
      ],
      "execution_count": null,
      "outputs": []
    }
  ]
}