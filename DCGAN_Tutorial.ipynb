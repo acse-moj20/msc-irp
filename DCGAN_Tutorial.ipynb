{
  "nbformat": 4,
  "nbformat_minor": 0,
  "metadata": {
    "colab": {
      "name": "DCGAN_Tutorial.ipynb",
      "provenance": [],
      "collapsed_sections": [],
      "authorship_tag": "ABX9TyOQBRVa0tATUpK4JSjH+ofP",
      "include_colab_link": true
    },
    "kernelspec": {
      "name": "python3",
      "display_name": "Python 3"
    },
    "language_info": {
      "name": "python"
    }
  },
  "cells": [
    {
      "cell_type": "markdown",
      "metadata": {
        "id": "view-in-github",
        "colab_type": "text"
      },
      "source": [
        "<a href=\"https://colab.research.google.com/github/acse-moj20/msc-irp/blob/dev/DCGAN_Tutorial.ipynb\" target=\"_parent\"><img src=\"https://colab.research.google.com/assets/colab-badge.svg\" alt=\"Open In Colab\"/></a>"
      ]
    },
    {
      "cell_type": "markdown",
      "metadata": {
        "id": "t1OGnx9-15fD"
      },
      "source": [
        "# Tutorials for CSE Independent Research Project\n",
        "- Mustapha Jolaade (moj20@ic.ac.uk)"
      ]
    },
    {
      "cell_type": "markdown",
      "metadata": {
        "id": "yPaA_Sg-t9Zh"
      },
      "source": [
        "Setup and Packages Import"
      ]
    },
    {
      "cell_type": "code",
      "metadata": {
        "id": "uuALfiayxFLC"
      },
      "source": [
        "import tensorflow as tf\n",
        "import glob\n",
        "import imageio\n",
        "import matplotlib.pyplot as plt\n",
        "import numpy as np\n",
        "import os \n",
        "import PIL \n",
        "from tensorflow.keras import layers\n",
        "import time\n",
        "from IPython import display"
      ],
      "execution_count": 1,
      "outputs": []
    },
    {
      "cell_type": "code",
      "metadata": {
        "colab": {
          "base_uri": "https://localhost:8080/"
        },
        "id": "ppJfvsuX1njK",
        "outputId": "53a4c2e9-5fcb-4680-993d-a33882f38aed"
      },
      "source": [
        "from google.colab import drive\n",
        "drive.mount('/content/drive')"
      ],
      "execution_count": 2,
      "outputs": [
        {
          "output_type": "stream",
          "text": [
            "Mounted at /content/drive\n"
          ],
          "name": "stdout"
        }
      ]
    },
    {
      "cell_type": "code",
      "metadata": {
        "colab": {
          "base_uri": "https://localhost:8080/"
        },
        "id": "vaU4f5ux1B_L",
        "outputId": "70223eb5-bd87-454a-8f81-20d4a20d9a65"
      },
      "source": [
        "print(\"Num of available GPUs: \", len(tf.config.list_physical_devices('GPU')))"
      ],
      "execution_count": 3,
      "outputs": [
        {
          "output_type": "stream",
          "text": [
            "Num of available GPUs:  0\n"
          ],
          "name": "stdout"
        }
      ]
    },
    {
      "cell_type": "markdown",
      "metadata": {
        "id": "UDbN5fAstzew"
      },
      "source": [
        "# Deep Convolutional Generative Adversarial Network Using Tensorflow\n",
        "- This tutorial shows to generate images of handwritten digits between 0 and 9 from MNIST dataset using a DC-GAN.\n",
        "\n",
        "- Mustapha Jolaade (moj20@ic.ac.uk)"
      ]
    },
    {
      "cell_type": "markdown",
      "metadata": {
        "id": "yzRUdzBA6_Ga"
      },
      "source": [
        "The idea behind GAN is to train two models simultaneously using an adversarial process. One of the models, a generator, learns to create images/predictiosn that look real while the other, a discriminator, learns to tell real images/predictions apart from fakes.\n",
        "\n",
        "The process reaches equilibrium when the discriminator can no longer distinguish real images from fakes.\n",
        "\n"
      ]
    },
    {
      "cell_type": "markdown",
      "metadata": {
        "id": "RHJlPDavFPNs"
      },
      "source": [
        "DC-GAN Tutorial Using MNIST dataset"
      ]
    },
    {
      "cell_type": "markdown",
      "metadata": {
        "id": "CyQ_SeooFqWR"
      },
      "source": [
        "####**Load and prepare dataset**"
      ]
    },
    {
      "cell_type": "code",
      "metadata": {
        "colab": {
          "base_uri": "https://localhost:8080/"
        },
        "id": "TcES6grIFyTz",
        "outputId": "8b689222-ecc0-40af-e055-5abe8e99ac54"
      },
      "source": [
        "# Source data \n",
        "(train_images, train_labels), (_, _) = tf.keras.datasets.mnist.load_data()\n",
        "train_images = train_images.reshape(train_images.shape[0], 28, 28, 1).astype('float32')\n",
        "\n",
        "# Normalize the images to [-1, 1]\n",
        "train_images = (train_images - 127.5) / 127.5 "
      ],
      "execution_count": 9,
      "outputs": [
        {
          "output_type": "stream",
          "text": [
            "Downloading data from https://storage.googleapis.com/tensorflow/tf-keras-datasets/mnist.npz\n",
            "11493376/11490434 [==============================] - 0s 0us/step\n"
          ],
          "name": "stdout"
        }
      ]
    },
    {
      "cell_type": "markdown",
      "metadata": {
        "id": "8o6y6b1kIBvd"
      },
      "source": [
        "####**Batch and shuffle the data**\n",
        "\n",
        "[tf.data.Dataset](https://www.tensorflow.org/api_docs/python/tf/data/Dataset) is a tensorflow API for writing input pipelines (i.e. data input for model).\n",
        "\n",
        "The `from_tensor_slices` method creates a `Dataset` type object whose elements are slices of the input tensor."
      ]
    },
    {
      "cell_type": "code",
      "metadata": {
        "id": "sTLZePRlGfbM"
      },
      "source": [
        "BUFFER_SIZE = 60000\n",
        "BATCH_SIZE = 256\n",
        "train_dataset = tf.data.Dataset.from_tensor_slices(train_images).shuffle(BUFFER_SIZE).batch(BATCH_SIZE)"
      ],
      "execution_count": 10,
      "outputs": []
    },
    {
      "cell_type": "markdown",
      "metadata": {
        "id": "6sXDgww6kdkS"
      },
      "source": [
        "####**Explore and visualize the data**"
      ]
    },
    {
      "cell_type": "code",
      "metadata": {
        "colab": {
          "base_uri": "https://localhost:8080/",
          "height": 300
        },
        "id": "r20K1MeEknr2",
        "outputId": "d56c1c48-21c5-4697-8278-a0c08b6362f4"
      },
      "source": [
        "print(type(train_images))\n",
        "print(train_images.shape)\n",
        "plt.imshow(train_images[0, :, :, 0], cmap='gray');"
      ],
      "execution_count": 24,
      "outputs": [
        {
          "output_type": "stream",
          "text": [
            "<class 'numpy.ndarray'>\n",
            "(60000, 28, 28, 1)\n"
          ],
          "name": "stdout"
        },
        {
          "output_type": "display_data",
          "data": {
            "image/png": "[encoded data removed]",
            "text/plain": [
              "<Figure size 432x288 with 1 Axes>"
            ]
          },
          "metadata": {
            "tags": [],
            "needs_background": "light"
          }
        }
      ]
    },
    {
      "cell_type": "markdown",
      "metadata": {
        "id": "UkKvfEA_NLSK"
      },
      "source": [
        "####**Create the models**\n",
        "\n",
        "The generator and discriminator model can be created using the Keras Sequential. API"
      ]
    },
    {
      "cell_type": "markdown",
      "metadata": {
        "id": "Tg4nWnMeNfG8"
      },
      "source": [
        "The generator uses `tf.keras.layers.Conv2DTranspose` layers for upsampling and to produce images from random noise seed. The activation for each layer is a LeakyRELU except the output layer that uses a tanh activation."
      ]
    },
    {
      "cell_type": "code",
      "metadata": {
        "colab": {
          "base_uri": "https://localhost:8080/",
          "height": 264
        },
        "id": "VDI9VTC1OAqa",
        "outputId": "691ec84d-ef5f-4193-d73a-4f58a26c69bc"
      },
      "source": [
        "def make_generator_model():\n",
        "  model = tf.keras.Sequential()\n",
        "  model.add(layers.Dense(7*7*256, use_bias=False, input_shape=(100,)))\n",
        "  model.add(layers.BatchNormalization())\n",
        "  model.add(layers.LeakyReLU())\n",
        "\n",
        "  model.add(layers.Reshape((7, 7, 256)))\n",
        "  # note: None is the batch size\n",
        "  assert model.output_shape == (None, 7, 7, 256)\n",
        "\n",
        "  model.add(layers.Conv2DTranspose(128, (5, 5), strides=(1,1), padding='same', use_bias=False))\n",
        "  assert model.output_shape == (None, 7, 7, 128)\n",
        "  model.add(layers.BatchNormalization())\n",
        "  model.add(layers.LeakyReLU())\n",
        "\n",
        "  model.add(layers.Conv2DTranspose(64, (5,5), strides=(2, 2), padding='same', use_bias=False))\n",
        "  assert model.output_shape == (None, 14, 14, 64)\n",
        "  model.add(layers.BatchNormalization())\n",
        "  model.add(layers.LeakyReLU())\n",
        "\n",
        "  model.add(layers.Conv2DTranspose(1, (5, 5), strides=(2, 2), padding='same', use_bias=False, activation='tanh'))\n",
        "  assert model.output_shape == (None, 28, 28, 1)\n",
        "\n",
        "  return model\n",
        "\n",
        "# Use the untrained generator model\n",
        "generator = make_generator_model()\n",
        "noise = tf.random.normal([1, 100])\n",
        "generated_image = generator(noise, training=False)\n",
        "plt.imshow(generated_image[0, :, :, 0], cmap='gray');\n"
      ],
      "execution_count": 25,
      "outputs": [
        {
          "output_type": "display_data",
          "data": {
            "image/png": "[encoded data removed]",
            "text/plain": [
              "<Figure size 432x288 with 1 Axes>"
            ]
          },
          "metadata": {
            "tags": [],
            "needs_background": "light"
          }
        }
      ]
    },
    {
      "cell_type": "markdown",
      "metadata": {
        "id": "0cvMaxgRIqlB"
      },
      "source": [
        "The discrimimantor is a CNN-based image classifier also build using Keras Sequential. I then use the (yet untrained) discriminator to classify the generated images as real or fake. The model will be trained to output positive values for real images and negative values for fake images."
      ]
    },
    {
      "cell_type": "code",
      "metadata": {
        "id": "GfDBeiaYI5K2",
        "outputId": "69d83a00-5247-49e4-f222-ad7d0dedd842",
        "colab": {
          "base_uri": "https://localhost:8080/"
        }
      },
      "source": [
        "def make_discriminator_model():\n",
        "  model = tf.keras.Sequential()\n",
        "  model.add(layers.Conv2D(64, (5, 5), strides=(2, 2), padding='same', input_shape=[28, 28, 1]))\n",
        "  model.add(layers.LeakyReLU())\n",
        "  model.add(layers.Dropout(0.3))\n",
        "\n",
        "  model.add(layers.Conv2D(128, (5,5), strides=(2, 2), padding='same'))\n",
        "  model.add(layers.LeakyReLU())\n",
        "  model.add(layers.Dropout(0.3))\n",
        "\n",
        "  model.add(layers.Flatten())\n",
        "  model.add(layers.Dense(1))\n",
        "\n",
        "  return model\n",
        "\n",
        "discriminator = make_discriminator_model()\n",
        "decision = discriminator(generated_image)\n",
        "print(decision)"
      ],
      "execution_count": 28,
      "outputs": [
        {
          "output_type": "stream",
          "text": [
            "tf.Tensor([[-0.0009633]], shape=(1, 1), dtype=float32)\n"
          ],
          "name": "stdout"
        }
      ]
    },
    {
      "cell_type": "markdown",
      "metadata": {
        "id": "gdJF1aDtMBph"
      },
      "source": [
        "####**Define the loss and optimizers**\n",
        "\n",
        "We need to define the loss functions and optimizers for both models. The in-built `keras.losses.BinaryCrossentropy()` method helps compute cross entropy loss. "
      ]
    },
    {
      "cell_type": "code",
      "metadata": {
        "id": "FkeE1TI4O0Ng"
      },
      "source": [
        "cross_entropy = tf.keras.losses.BinaryCrossentropy(from_logits=True)"
      ],
      "execution_count": 29,
      "outputs": []
    },
    {
      "cell_type": "markdown",
      "metadata": {
        "id": "1lFQu3BdNa0w"
      },
      "source": [
        "Discriminator Loss\n",
        "\n",
        "---\n",
        "This loss function will quantify how well the discriminator is able to distinguish real images from fakes. It performs a comparison between the discriminator's predictions on real images to an array of 1s, and the discriminator's predictions on fake images to an array of 0s."
      ]
    },
    {
      "cell_type": "code",
      "metadata": {
        "id": "VhULgnHIOR7E"
      },
      "source": [
        "def discriminator_loss(real_output, fake_output):\n",
        "  real_loss = cross_entropy(tf.ones_like(real_output), real_output)\n",
        "  fake_loss = cross_entropy(tf.zeros_like(fake_output), fake_output)\n",
        "  total_loss = real_loss + fake_loss\n",
        "  return total_loss"
      ],
      "execution_count": null,
      "outputs": []
    },
    {
      "cell_type": "markdown",
      "metadata": {
        "id": "Qv3GLlTrPXNp"
      },
      "source": [
        "Generator Loss\n",
        "\n",
        "---\n",
        "The generator loss quanitifies how well it is able to trick the discriminator so if it is performing well, the dicriminator will classify fake images as real(or 1). \n",
        "\n",
        "This means we compare the discirminator's decisions on the generated images (`fake_output`) to an array of 1s, as if it were real."
      ]
    },
    {
      "cell_type": "code",
      "metadata": {
        "id": "wqwJEVgAc7Eg"
      },
      "source": [
        "# generator loss is quantified by how much it can trick the discriminator (i.e. fake output is close to 1s)\n",
        "def generator_loss(fake_ouput):\n",
        "  return cross_entropy(tf.ones_like(fake_output), fake_output)"
      ],
      "execution_count": 30,
      "outputs": []
    },
    {
      "cell_type": "code",
      "metadata": {
        "id": "O_54LUDCdaf4"
      },
      "source": [
        "# Separate optimizers since this invovles training 2 networks\n",
        "generator_optimizer = tf.keras.optimizers.Adam(1e-4)\n",
        "discriminator_optimizer = tf.keras.optimizers.Adam(1e-4)"
      ],
      "execution_count": 31,
      "outputs": []
    },
    {
      "cell_type": "markdown",
      "metadata": {
        "id": "gH--aS-Re8vD"
      },
      "source": [
        "####**Save checkpoints**\n",
        "\n",
        "Saving checkpoints can be helpful in case a long running training task is interrupted.\n"
      ]
    },
    {
      "cell_type": "code",
      "metadata": {
        "id": "47Lj9VyTflL2"
      },
      "source": [
        "checkpoint_dir = './training_checkpoints'\n",
        "checkpoint_prefix = os.path.join(checkpoint_dir, \"ckpt\")\n",
        "checkpoint = tf.train.Checkpoint(generator_optimizer=generator_optimizer,\n",
        "                                 discriminator_optimizer=discriminator_optimizer,\n",
        "                                 generator=generator,\n",
        "                                 discriminator=discriminator)"
      ],
      "execution_count": 32,
      "outputs": []
    },
    {
      "cell_type": "markdown",
      "metadata": {
        "id": "_aKC8pXjhAE4"
      },
      "source": [
        "####**Define the training loop**\n",
        "\n",
        "The training loop begins with generator receiving random seed as input which is used to produce an image. The discriminatior is then used to classifiy the real images (drawn from the training set) and fake images (produced by the generator). \n",
        "\n",
        "The loss is then calculated for each of the models witht the gradients used to update the generator and discirminator."
      ]
    },
    {
      "cell_type": "code",
      "metadata": {
        "id": "6jKUtC67h0Q4"
      },
      "source": [
        "EPOCHS = 50\n",
        "noise_dim = 100\n",
        "num_examples_to_generate = 16\n",
        "\n",
        "seed = tf.random.normal([num_examples_to_generate, noise_dim])"
      ],
      "execution_count": 33,
      "outputs": []
    },
    {
      "cell_type": "code",
      "metadata": {
        "id": "mEfoKlMviJP0"
      },
      "source": [
        "# The tf.function annotation makes the function to be \"compiled\" - more performant and python-independent\n",
        "@tf.function\n",
        "def train_step(images):\n",
        "  noise = tf.random.normal([BATCH_SIZE, noise_dim])\n",
        "\n",
        "  with tf.GradientTape() as gen_tape, tf.GradientTape() as disc_tape:\n",
        "    generated_images = generator(noise, training=True)\n",
        "\n",
        "    real_output = discriminator(images, training=True)\n",
        "    fake_output = discriminator(generated_images, training=True)\n",
        "\n",
        "    gen_loss = generator_loss(fake_output)\n",
        "    disc_loss = discriminator_loss(real_output, fake_output)\n",
        "\n",
        "  gradients_of_gen = gen_tape.gradient(gen_loss, generator.trainable_variables)\n",
        "  gradients_of_disc = disc_tape.gradient(disc_loss, discriminator.trainable_variables)\n",
        "\n",
        "  generator_optimizer.apply_gradients(zip(gradients_of_gen, generator.trainable_variables))\n",
        "  discriminator_optimizer.apply_gradients(zip(gradients_of_disc, discriminator.trainable_variables))"
      ],
      "execution_count": 34,
      "outputs": []
    },
    {
      "cell_type": "code",
      "metadata": {
        "id": "-sW4g0M2pBuB"
      },
      "source": [
        "def train(dataset, epochs):\n",
        "  for epoch in range(epochs):\n",
        "    start = time.time()\n",
        "    for image_batch in dataset:\n",
        "      trian_step(image_batch)\n",
        "    \n",
        "    # Produce images for the GIF in this same step\n",
        "    display.clear_output(wait=True)\n",
        "    generate_and_save_images(generator, epoch + 1, seed)\n",
        "\n",
        "    # Save the model every 15 epochs\n",
        "    if (epoch + 1) % 15 == 0:\n",
        "      checkpoint.save(file_prefix=checkpoint_prefix)\n",
        "    print('Time for epoch {} is {} sec'.format(epoch + 1, time.time()-start))\n",
        "\n",
        "    # Generate after the final epoch\n",
        "    display.clear_output(wait=True)\n",
        "    generate_and_save_images(generator, epoch + 1, seed)"
      ],
      "execution_count": 35,
      "outputs": []
    },
    {
      "cell_type": "markdown",
      "metadata": {
        "id": "-lrI-fuFrRZg"
      },
      "source": [
        "####**Generate and save images**"
      ]
    },
    {
      "cell_type": "code",
      "metadata": {
        "id": "YTxv-zCZrcxU"
      },
      "source": [
        "def generate_and_save_images(model, epoch, test_input):\n",
        "\n",
        "  # Trainig is set to false so all layers run in inference mode (batchnorm)\n",
        "\n",
        "  fig = plt.figure(figsize=(4,4))\n",
        "\n",
        "  for i in range(predictions.shape[0]):\n",
        "    plt.subplot(4, 4, i+1)\n",
        "    plt.imshow(predictions[i, :, :, 0] * 127.5 + 127.5, cmap='gray')\n",
        "    plt.axis('off')\n",
        "  # plt.savefig('image_at_epoch_{:04d}.png'.format(epoch))\n",
        "  plt.show()"
      ],
      "execution_count": 36,
      "outputs": []
    },
    {
      "cell_type": "markdown",
      "metadata": {
        "id": "bigXk9no3pDw"
      },
      "source": [
        "###**Train the model**\n",
        "\n",
        "Call the `train()` method defined above to train the generator and discriminator simultaneously.  Note that it is important that the genrator and discirminator train at a similar rate and they do not overpower each other.\n",
        "\n"
      ]
    },
    {
      "cell_type": "markdown",
      "metadata": {
        "id": "s_qNi35o3UHZ"
      },
      "source": [
        "# Automatic Differentiation Using Tensorflow\n",
        "\n",
        "This simply means backpropagating error from loss function through the generator of a GAN"
      ]
    },
    {
      "cell_type": "markdown",
      "metadata": {
        "id": "IlJBdyMP9gJQ"
      },
      "source": [
        "### Computing gradients notes\n",
        "- To perform an auntomatic differentiaiton, TF needs to know the order of operations for the forward pass so for the backward pass, it can traverse this list of operation to obtain a gradient.\n",
        "\n",
        "- The operations are stored in the context of a [tf.GradientTape](https://www.tensorflow.org/guide/autodiff#gradient_tapes) API as variable \"tape\". Then, gradient can be computed using the reverse mode diffferentiation.\n",
        "\n",
        "- The shape of output of gradient has same shape as source (when using the tf.GardientTape api)."
      ]
    },
    {
      "cell_type": "markdown",
      "metadata": {
        "id": "mEzdFtV5Ay27"
      },
      "source": [
        "**Example 1: Gradient Tape**"
      ]
    },
    {
      "cell_type": "code",
      "metadata": {
        "colab": {
          "base_uri": "https://localhost:8080/"
        },
        "id": "8M0DZLKJELTA",
        "outputId": "b7a937a4-20f0-4b42-9a6f-88446198c8af"
      },
      "source": [
        "# declare variables/dictionary of variables\n",
        "w = tf.Variable(tf.random.normal((3, 2)), name='w')\n",
        "b = tf.Variable(tf.zeros(2, dtype= tf.float32), name='b')\n",
        "x = [[1., 2., 3.]]\n",
        "my_vars = { 'w': w, 'b':b}\n",
        "\n",
        "# create a tape that stores an order of operation using the tf.GradientTape API\n",
        "with tf.GradientTape(persistent=True) as tape:\n",
        "  y = x @ w + b\n",
        "  loss = tf.reduce_mean(y**2)\n",
        "\n",
        "# Compute gradient of loss with respect to specific variable(s)\n",
        "loss_grad = tape.gradient(loss, my_vars)\n",
        "print(loss_grad['w'])\n",
        "print(loss_grad['b'])"
      ],
      "execution_count": 4,
      "outputs": [
        {
          "output_type": "stream",
          "text": [
            "tf.Tensor(\n",
            "[[  3.5941315  -5.6095257]\n",
            " [  7.188263  -11.219051 ]\n",
            " [ 10.782394  -16.828577 ]], shape=(3, 2), dtype=float32)\n",
            "tf.Tensor([ 3.5941315 -5.6095257], shape=(2,), dtype=float32)\n"
          ],
          "name": "stdout"
        }
      ]
    },
    {
      "cell_type": "markdown",
      "metadata": {
        "id": "QGcjZc52FdZF"
      },
      "source": [
        "Note that gradient output has same shape as its corresponding independent variable."
      ]
    },
    {
      "cell_type": "markdown",
      "metadata": {
        "id": "LN9mrDwWIqet"
      },
      "source": [
        "**Example 2: Gradient with respect to a model**"
      ]
    },
    {
      "cell_type": "code",
      "metadata": {
        "id": "gtQqy3uGJMwJ"
      },
      "source": [
        "layer = tf.keras.layers.Dense(2, activation='relu')\n",
        "x = tf.constant([[1., 2., 3.]])\n",
        "\n",
        "with tf.GradientTape() as tape:\n",
        "  y = layer(x) # Forward pass through model\n",
        "  loss = tf.reduce_mean(y**2)\n",
        "\n",
        "# Calculate gradients with respect to every trainable parameter\n",
        "\n",
        "grad = tape.gradient(loss, layer.trainable_variables)"
      ],
      "execution_count": 5,
      "outputs": []
    },
    {
      "cell_type": "code",
      "metadata": {
        "colab": {
          "base_uri": "https://localhost:8080/"
        },
        "id": "hOu-HHGieF81",
        "outputId": "bf4967f2-7c9e-4ff4-dda4-db0fb9e5fdf9"
      },
      "source": [
        "for var, deriv in zip(layer.trainable_variables, grad):\n",
        "  print(f'{var.name}, shape: {deriv.shape}')\n",
        "del tape"
      ],
      "execution_count": 6,
      "outputs": [
        {
          "output_type": "stream",
          "text": [
            "dense/kernel:0, shape: (3, 2)\n",
            "dense/bias:0, shape: (2,)\n"
          ],
          "name": "stdout"
        }
      ]
    },
    {
      "cell_type": "markdown",
      "metadata": {
        "id": "-elzdjYRhoEQ"
      },
      "source": [
        "**Example 3: Controlling what the tape watches**"
      ]
    },
    {
      "cell_type": "markdown",
      "metadata": {
        "id": "SvzQx4ecejDM"
      },
      "source": [
        "The use of GradientTape.watch(var) helps to restrict the number of variables being watched by the gradient tape. \n",
        "\n",
        "The default bhavior is to watch all accessed varibale by the tape but this can be disabled. "
      ]
    },
    {
      "cell_type": "code",
      "metadata": {
        "colab": {
          "base_uri": "https://localhost:8080/"
        },
        "id": "ULT-K6kYhlDB",
        "outputId": "a50b4d58-5940-4291-93be-5e4fd4b91430"
      },
      "source": [
        "x0 = tf.Variable(0.0)\n",
        "x1 = tf.Variable(10.0)\n",
        "\n",
        "with tf.GradientTape(watch_accessed_variables=False) as tape:\n",
        "  tape.watch(x1)\n",
        "  y0, y1 = tf.math.sin(x0), tf.nn.softplus(x1)\n",
        "  y = y0 + y1\n",
        "  dy = tf.reduce_sum(y)\n",
        "grad = tape.gradient(dy, {'x0':x0, 'x1':x1})\n",
        "\n",
        "print('dy/dx0:', grad['x0'])\n",
        "print('dy/dx1:', grad['x1'])\n",
        "del tape"
      ],
      "execution_count": 7,
      "outputs": [
        {
          "output_type": "stream",
          "text": [
            "dy/dx0: None\n",
            "dy/dx1: tf.Tensor(0.9999546, shape=(), dtype=float32)\n"
          ],
          "name": "stdout"
        }
      ]
    },
    {
      "cell_type": "markdown",
      "metadata": {
        "id": "48AWgaLTkBg6"
      },
      "source": [
        "Since `GradientTape.watch` was not called on x0, its derivative is not calculated. \n",
        "\n",
        "Finally, derivative of intermediate result (some calculated variable within tape) can also be computed.\n",
        "\n",
        "Gradients of non-scalar (multiple) targets returns the sum of the gradients of each target. For element-wise calculation however, the gadient tape API returns the derivative of each element (see below)"
      ]
    },
    {
      "cell_type": "code",
      "metadata": {
        "colab": {
          "base_uri": "https://localhost:8080/",
          "height": 296
        },
        "id": "fDRZk-o9kTuE",
        "outputId": "ab89a875-1fb0-4be9-ce89-56db68a5e456"
      },
      "source": [
        "x = tf.linspace(-10.0, 10.0, 201)\n",
        "\n",
        "with tf.GradientTape() as tape:\n",
        "  tape.watch(x)\n",
        "  y = tf.nn.sigmoid(x)\n",
        "grad = tape.gradient(y, x)\n",
        "plt.plot(x, y, label='y')\n",
        "plt.plot(x, grad, label='dy_dx')\n",
        "plt.legend()\n",
        "plt.xlabel('x')\n"
      ],
      "execution_count": 8,
      "outputs": [
        {
          "output_type": "execute_result",
          "data": {
            "text/plain": [
              "Text(0.5, 0, 'x')"
            ]
          },
          "metadata": {
            "tags": []
          },
          "execution_count": 8
        },
        {
          "output_type": "display_data",
          "data": {
            "image/png": "[encoded data removed]",
            "text/plain": [
              "<Figure size 432x288 with 1 Axes>"
            ]
          },
          "metadata": {
            "tags": [],
            "needs_background": "light"
          }
        }
      ]
    },
    {
      "cell_type": "code",
      "metadata": {
        "id": "npM9SLMgHmym"
      },
      "source": [
        ""
      ],
      "execution_count": 8,
      "outputs": []
    }
  ]
}